{
 "cells": [
  {
   "cell_type": "code",
   "execution_count": 1,
   "id": "0c13784e-edd9-4b22-b24d-d4b6211173ca",
   "metadata": {},
   "outputs": [],
   "source": [
    "import matplotlib.pyplot as plt\n",
    "import numpy as np\n",
    "\n",
    "np.random.seed(\n",
    "    0\n",
    ")  # We manually set the seed for reproducible results, this is not required"
   ]
  },
  {
   "cell_type": "markdown",
   "id": "59f42ad2-2612-4cde-8545-eb420af5aef9",
   "metadata": {},
   "source": [
    "# Challenge 3"
   ]
  },
  {
   "cell_type": "markdown",
   "id": "feacf6b7-97fa-4d34-b9b3-32e6e263ca9a",
   "metadata": {},
   "source": [
    "* We count events including both background and signal, `r`, with mean `s + b`\n",
    "\n",
    "* We don't know the value `s`\n",
    "\n",
    "* We do know `b = 2` from independant measurements\n",
    "\n",
    "* A measurement gives `r = 10`. Can we determine the value of `s`? with which uncertainty?"
   ]
  },
  {
   "cell_type": "code",
   "execution_count": 77,
   "id": "2aba4663-9ba2-455b-8757-474d52d5a2a3",
   "metadata": {},
   "outputs": [],
   "source": [
    "from scipy.stats import poisson"
   ]
  },
  {
   "cell_type": "code",
   "execution_count": 171,
   "id": "47667536-855e-43ee-bcb1-f04cf78a4448",
   "metadata": {},
   "outputs": [],
   "source": [
    "n = 23 # range\n",
    "b = 2\n",
    "n_values = np.arange(b, n)\n",
    "\n",
    "X = np.zeros([n - b, n - b])\n",
    "\n",
    "for s in np.arange(n - b):\n",
    "    X[s, :] = [poisson(s + b).pmf(i + b) for i in n_values]"
   ]
  },
  {
   "cell_type": "code",
   "execution_count": 172,
   "id": "73bf7e84-66e4-4db1-bd2c-0a46eff6a3ac",
   "metadata": {},
   "outputs": [
    {
     "data": {
      "image/png": "[encoded data removed]",
      "text/plain": [
       "<Figure size 864x864 with 2 Axes>"
      ]
     },
     "metadata": {
      "needs_background": "light"
     },
     "output_type": "display_data"
    }
   ],
   "source": [
    "from matplotlib.colors import LogNorm\n",
    "\n",
    "fig, ax = plt.subplots(figsize = (12, 12))\n",
    "\n",
    "im = ax.imshow(X, origin=\"lower\", norm = LogNorm(), cmap=\"magma\")\n",
    "\n",
    "ax.set_xlabel(\"s estimator\")\n",
    "ax.set_ylabel(\"s\")\n",
    "ax.set_title(\"Confidence belt single Poissonian with known b = 2\")\n",
    "\n",
    "cbar = plt.colorbar(im)\n",
    "\n",
    "plt.show()\n",
    "\n",
    "# offset axis 2"
   ]
  },
  {
   "cell_type": "code",
   "execution_count": 173,
   "id": "f746b8da-7994-4f28-bdd8-7cef3c779ac8",
   "metadata": {},
   "outputs": [
    {
     "name": "stdout",
     "output_type": "stream",
     "text": [
      "2 7.632841377401668e-05\n",
      "3 0.0006979898191813455\n",
      "4 0.0036284868512028753\n",
      "5 0.012811285427166913\n",
      "6 0.03417952960009138\n",
      "7 0.0738421161811207\n",
      "8 0.13548862799926237\n",
      "9 0.21851011441680004\n",
      "result for s_lower = 9\n",
      "20 0.04769243305993658\n",
      "19 0.07157237421289622\n",
      "18 0.10486107738820413\n",
      "17 0.14974201087207265\n",
      "16 0.20805980237384797\n",
      "result for s_upper = 16\n"
     ]
    }
   ],
   "source": [
    "def integral(s, limits = None, X = X):\n",
    "    # X is squared\n",
    "    # limits is a 2 size array (e.g. limits = [0, 10]) for lower and upper bound\n",
    "    result = 0\n",
    "    for i in range(len(X)):\n",
    "        # we integrate over \"s hat\" or horizontal dimension\n",
    "        # limits (if defined) are the limits of the integral, otherwise integrate in the whole range\n",
    "        if not limits or (limits and i >= limits[0] and i <= limits[1]):\n",
    "            result += X[s, i]\n",
    "    return result\n",
    "\n",
    "s_hat = 10\n",
    "alpha = 0.32\n",
    "\n",
    "for s_lower in range(2, len(X)):\n",
    "    integral_result = integral(s_lower, limits = [s_hat, len(X)])\n",
    "    print(s_lower, integral_result)\n",
    "    if integral_result >= alpha / 2:\n",
    "        break\n",
    "        \n",
    "print(f\"result for s_lower = {s_lower}\")\n",
    "\n",
    "for s_upper in reversed(range(2, len(X))):\n",
    "    integral_result = integral(s_upper, limits = [0, s_hat])\n",
    "    print(s_upper, integral_result)\n",
    "    if integral_result >= alpha / 2:\n",
    "        break\n",
    "        \n",
    "print(f\"result for s_upper = {s_upper}\")"
   ]
  },
  {
   "cell_type": "code",
   "execution_count": 94,
   "id": "fd009ace-e808-41a8-80d1-d0bf1632923c",
   "metadata": {},
   "outputs": [
    {
     "name": "stdout",
     "output_type": "stream",
     "text": [
      "1.0\n",
      "1.0\n",
      "0.9999999999999999\n",
      "0.9999999999997932\n",
      "0.9999999999402663\n",
      "0.9999999960857319\n",
      "0.9999998994609903\n",
      "0.9999986456722207\n",
      "0.9999886146928779\n",
      "0.9999331719726389\n",
      "0.9997042631919962\n",
      "0.998957651483493\n",
      "0.996952628855828\n",
      "0.9923775488735286\n",
      "0.9832878060220537\n",
      "0.9672557550672207\n",
      "0.9417590724305983\n",
      "0.9047279537804821\n",
      "0.8550900690894079\n",
      "0.7931390279708008\n",
      "0.720611343126023\n",
      "0.6404561110924731\n",
      "0.5563752127390885\n"
     ]
    }
   ],
   "source": [
    "for i in range(len(X)):\n",
    "    print(integral(i))"
   ]
  },
  {
   "cell_type": "code",
   "execution_count": 101,
   "id": "3b578724-ab3a-43e4-bd44-cca49da77b31",
   "metadata": {},
   "outputs": [
    {
     "data": {
      "text/plain": [
       "0.06305545800345125"
      ]
     },
     "execution_count": 101,
     "metadata": {},
     "output_type": "execute_result"
    }
   ],
   "source": [
    "result = 0\n",
    "for i in range(len(X)):\n",
    "    result += X[]"
   ]
  },
  {
   "cell_type": "code",
   "execution_count": null,
   "id": "6b6a135b-b20d-49e0-9072-85e636044351",
   "metadata": {},
   "outputs": [],
   "source": []
  },
  {
   "cell_type": "code",
   "execution_count": null,
   "id": "725d81e4-4fef-4fc0-98f9-0987e6561ca7",
   "metadata": {},
   "outputs": [],
   "source": []
  },
  {
   "cell_type": "code",
   "execution_count": null,
   "id": "f0c06665-5006-4374-8f6e-41833185f641",
   "metadata": {},
   "outputs": [],
   "source": []
  },
  {
   "cell_type": "code",
   "execution_count": null,
   "id": "0a13bc57-d4ab-4990-b4c5-44055f363057",
   "metadata": {},
   "outputs": [],
   "source": []
  }
 ],
 "metadata": {
  "kernelspec": {
   "display_name": "Python 3 (ipykernel)",
   "language": "python",
   "name": "python3"
  },
  "language_info": {
   "codemirror_mode": {
    "name": "ipython",
    "version": 3
   },
   "file_extension": ".py",
   "mimetype": "text/x-python",
   "name": "python",
   "nbconvert_exporter": "python",
   "pygments_lexer": "ipython3",
   "version": "3.8.10"
  }
 },
 "nbformat": 4,
 "nbformat_minor": 5
}
