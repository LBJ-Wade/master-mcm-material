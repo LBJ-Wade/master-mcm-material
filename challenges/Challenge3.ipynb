{
 "cells": [
  {
   "cell_type": "code",
   "execution_count": 1,
   "id": "0c13784e-edd9-4b22-b24d-d4b6211173ca",
   "metadata": {},
   "outputs": [],
   "source": [
    "import matplotlib.pyplot as plt\n",
    "import numpy as np\n",
    "\n",
    "np.random.seed(\n",
    "    0\n",
    ")  # We manually set the seed for reproducible results, this is not required"
   ]
  },
  {
   "cell_type": "markdown",
   "id": "59f42ad2-2612-4cde-8545-eb420af5aef9",
   "metadata": {},
   "source": [
    "# Challenge 3"
   ]
  },
  {
   "cell_type": "markdown",
   "id": "feacf6b7-97fa-4d34-b9b3-32e6e263ca9a",
   "metadata": {
    "tags": []
   },
   "source": [
    "Again, we count events including both background and signal, `r`, which follows a Poisson distribution with mean `s + b`. The difference is that now, we don't know the value `s`. However, we do know `b = 2` from independent measurements. A certain measurement gives `r = 10`. Can we determine the value of `s`? With which uncertainty?\n",
    "\n",
    "The first idea that comes to mind is to estimate `s` as `s_hat = r - b`, so `s_hat = 8`.\n",
    "\n",
    "Let's assume that `s = 8`. How likely is it to measure `r = 10` (that is, `s_hat = 8`)? This is the conditional probability `P(s_hat = 8;s = 8)`:"
   ]
  },
  {
   "cell_type": "code",
   "execution_count": 2,
   "id": "47667536-855e-43ee-bcb1-f04cf78a4448",
   "metadata": {
    "tags": []
   },
   "outputs": [
    {
     "name": "stdout",
     "output_type": "stream",
     "text": [
      "Probability is 0.1251\n"
     ]
    }
   ],
   "source": [
    "from scipy.stats import poisson\n",
    "\n",
    "s = 8\n",
    "b = 2\n",
    "s_hat = 8\n",
    "\n",
    "prob = poisson(s + b).pmf(s_hat + b)\n",
    "print(f\"Probability is {prob:0.4f}\")"
   ]
  },
  {
   "cell_type": "markdown",
   "id": "08f9bb0a-52b0-4659-9c85-aba08f571933",
   "metadata": {
    "tags": []
   },
   "source": [
    "Clearly, we need to give more than just one value for `s`: we can still have smaller and larger values for `s` for which it's reasonable to get `r = 10`. In conclusion, we want to give an *interval* of likely values for `s`. How to determine such interval? First, let's build and plot a matrix with all the conditional probabilities `P(s_hat;s)` for a given background `b = 2`:"
   ]
  },
  {
   "cell_type": "code",
   "execution_count": 3,
   "id": "1e04792c-0d37-451e-b316-0ea1fbc3ede2",
   "metadata": {
    "tags": []
   },
   "outputs": [],
   "source": [
    "N = 22\n",
    "b = 2\n",
    "\n",
    "P = np.zeros([N, N])  # probability matrix, NxN\n",
    "\n",
    "it = np.arange(N)  # range: [0, N)\n",
    "\n",
    "for s in it:\n",
    "    P[s, :] = [poisson(s + b).pmf(s_hat + b) for s_hat in it]"
   ]
  },
  {
   "cell_type": "code",
   "execution_count": 4,
   "id": "73bf7e84-66e4-4db1-bd2c-0a46eff6a3ac",
   "metadata": {},
   "outputs": [
    {
     "data": {
      "image/png": "[encoded data removed]",
      "text/plain": [
       "<Figure size 720x720 with 2 Axes>"
      ]
     },
     "metadata": {
      "needs_background": "light"
     },
     "output_type": "display_data"
    }
   ],
   "source": [
    "from matplotlib.colors import LogNorm\n",
    "\n",
    "fig, ax = plt.subplots(figsize=(10, 10))\n",
    "\n",
    "im = ax.imshow(P, origin=\"lower\", cmap=\"viridis\", norm=LogNorm())\n",
    "\n",
    "ax.set_xlabel(\"s_hat\")\n",
    "ax.set_ylabel(\"s\")\n",
    "ax.set_title(\"P(s_hat;s) for b = 2\")\n",
    "\n",
    "cbar = plt.colorbar(im)\n",
    "\n",
    "plt.show()"
   ]
  },
  {
   "cell_type": "markdown",
   "id": "5dc63b1e-c669-451b-a220-9a809af7b5d7",
   "metadata": {
    "tags": []
   },
   "source": [
    "For a given measurement `s_hat = s_0`, we define the interval `[s_lo, s_up]` of possible `s` as follows: \n",
    "\n",
    "* `s_lo` is determined by integrating `P(s_hat;s)` over `s_hat` from `s_0` to `inf`: `s_lo` is the value of `s` such that this integral gives `alpha/2`\n",
    "* `s_up` is determined by integrating `P(s_hat;s)` over `s_hat` from `-inf` to `s_0`: `s_up` is the value of `s` such that this integral gives `alpha/2`\n",
    "\n",
    "The `1sigma` uncertainty interval is defined by taking `alpha = 0.32`\n",
    "\n",
    "Let's calculate this for our example `s_hat = s_0 = 10`:"
   ]
  },
  {
   "cell_type": "code",
   "execution_count": 5,
   "id": "f746b8da-7994-4f28-bdd8-7cef3c779ac8",
   "metadata": {},
   "outputs": [
    {
     "name": "stdout",
     "output_type": "stream",
     "text": [
      " s = 0, integral = 0.0000\n",
      " s = 1, integral = 0.0001\n",
      " s = 2, integral = 0.0009\n",
      " s = 3, integral = 0.0055\n",
      " s = 4, integral = 0.0201\n",
      " s = 5, integral = 0.0533\n",
      " s = 6, integral = 0.1119\n",
      " s = 7, integral = 0.1970\n",
      "\n",
      " s_lo = 6 \n",
      "\n",
      " s = 21, integral = 0.0091\n",
      " s = 20, integral = 0.0151\n",
      " s = 19, integral = 0.0245\n",
      " s = 18, integral = 0.0390\n",
      " s = 17, integral = 0.0606\n",
      " s = 16, integral = 0.0917\n",
      " s = 15, integral = 0.1350\n",
      " s = 14, integral = 0.1931\n",
      "\n",
      " s_up = 15 \n",
      "\n"
     ]
    }
   ],
   "source": [
    "s_0 = 10\n",
    "alpha = 0.32\n",
    "\n",
    "# function to calculate the proposed integral\n",
    "def integral(s, lo_lim, up_lim, P=P):\n",
    "    # s is the value of signal (we'll iterate over this to find s_lo, s_up)\n",
    "    # P is our probability matrix\n",
    "    # lo_lim is the lower integration limit\n",
    "    # up_lim is the upper integration limit\n",
    "    res = 0\n",
    "    for s_hat in np.arange(N):\n",
    "        # we integrate over s_hat\n",
    "        if s_hat >= lo_lim and s_hat <= up_lim:\n",
    "            res += P[s, s_hat]\n",
    "    return res\n",
    "\n",
    "\n",
    "# let's find s_lo by iterating over all possible values of s\n",
    "for s_lo in np.arange(N):\n",
    "    res = integral(s_lo, lo_lim=s_0, up_lim=N)  # N will be our cutoff\n",
    "    print(f\" s = {s_lo}, integral = {res:0.4f}\")\n",
    "    if res >= alpha / 2:\n",
    "        break\n",
    "\n",
    "print(f\"\\n s_lo = {s_lo - 1} \\n\")\n",
    "\n",
    "for s_up in reversed(np.arange(N)):\n",
    "    res = integral(s_up, lo_lim=0, up_lim=s_0)  # 0 will be our cutoff\n",
    "    print(f\" s = {s_up}, integral = {res:0.4f}\")\n",
    "    if res >= alpha / 2:\n",
    "        break\n",
    "\n",
    "print(f\"\\n s_up = {s_up + 1} \\n\")"
   ]
  },
  {
   "cell_type": "markdown",
   "id": "023317d8-25ed-46ec-afe8-020c485cb9ce",
   "metadata": {
    "tags": []
   },
   "source": [
    "We can repeat this process for all the possible measurements `s_hat = s_0` we can get. Constructing this interval of `s` values for each `s_hat = s_0` produces what we call the Neyman's confidence belt. Before obtaining this interval for our case `b = 2`, let's first integrate our matrix over `s_hat` in the whole range `N`, and for all possible `s`:"
   ]
  },
  {
   "cell_type": "code",
   "execution_count": 6,
   "id": "fd009ace-e808-41a8-80d1-d0bf1632923c",
   "metadata": {},
   "outputs": [
    {
     "name": "stdout",
     "output_type": "stream",
     "text": [
      " s = 0, integral = 0.5940\n",
      " s = 1, integral = 0.8009\n",
      " s = 2, integral = 0.9084\n",
      " s = 3, integral = 0.9596\n",
      " s = 4, integral = 0.9826\n",
      " s = 5, integral = 0.9927\n",
      " s = 6, integral = 0.9970\n",
      " s = 7, integral = 0.9987\n",
      " s = 8, integral = 0.9994\n",
      " s = 9, integral = 0.9993\n",
      " s = 10, integral = 0.9984\n",
      " s = 11, integral = 0.9960\n",
      " s = 12, integral = 0.9907\n",
      " s = 13, integral = 0.9805\n",
      " s = 14, integral = 0.9633\n",
      " s = 15, integral = 0.9367\n",
      " s = 16, integral = 0.8989\n",
      " s = 17, integral = 0.8490\n",
      " s = 18, integral = 0.7875\n",
      " s = 19, integral = 0.7160\n",
      " s = 20, integral = 0.6374\n",
      " s = 21, integral = 0.5551\n"
     ]
    }
   ],
   "source": [
    "for s in np.arange(N):\n",
    "    print(f\" s = {s}, integral = {integral(s, 0, N):0.4f}\")"
   ]
  },
  {
   "cell_type": "markdown",
   "id": "6e907051-7d0f-4ed6-9999-3cc724a28357",
   "metadata": {
    "tags": []
   },
   "source": [
    "They should be 1 for all values of `s`... This is clearly a cutoff effect: for small values of `s`, `s_hat = -2, -1` (`r = 0, 1`) are very likely, while for large values of `s`, `s_hat > N` become likely. Therefore, extracting `s_lo` and `s_up` won't be accurate for small/large `s_0`, since for small `s_0`, `s_up` will be 'small' and the integrals for `s = 0, 1` will be relevant, while for large `s_0`, `s_lo` will be 'large' and the integrals for `s` close to `N` will be relevant.\n",
    "\n",
    "We could build a bigger matrix, etc. But for simplicity, we'll just calculate some more intervals for some middle values around `s_0 = 10`:"
   ]
  },
  {
   "cell_type": "code",
   "execution_count": 7,
   "id": "3b578724-ab3a-43e4-bd44-cca49da77b31",
   "metadata": {},
   "outputs": [
    {
     "name": "stdout",
     "output_type": "stream",
     "text": [
      " For s_0 = 0, s_lo = -1, s_up = 2 \n",
      " For s_0 = 1, s_lo = -1, s_up = 4 \n",
      " For s_0 = 2, s_lo = 0, s_up = 6 \n",
      " For s_0 = 3, s_lo = 0, s_up = 7 \n",
      " For s_0 = 4, s_lo = 1, s_up = 8 \n",
      " For s_0 = 5, s_lo = 2, s_up = 9 \n",
      " For s_0 = 6, s_lo = 3, s_up = 10 \n",
      " For s_0 = 7, s_lo = 4, s_up = 12 \n",
      " For s_0 = 8, s_lo = 4, s_up = 13 \n",
      " For s_0 = 9, s_lo = 5, s_up = 14 \n",
      " For s_0 = 10, s_lo = 6, s_up = 15 \n",
      " For s_0 = 11, s_lo = 7, s_up = 16 \n",
      " For s_0 = 12, s_lo = 8, s_up = 17 \n",
      " For s_0 = 13, s_lo = 9, s_up = 18 \n",
      " For s_0 = 14, s_lo = 10, s_up = 20 \n",
      " For s_0 = 15, s_lo = 10, s_up = 21 \n",
      " For s_0 = 16, s_lo = 11, s_up = 22 \n",
      " For s_0 = 17, s_lo = 12, s_up = 22 \n",
      " For s_0 = 18, s_lo = 14, s_up = 22 \n",
      " For s_0 = 19, s_lo = 15, s_up = 22 \n",
      " For s_0 = 20, s_lo = 19, s_up = 22 \n",
      " For s_0 = 21, s_lo = 20, s_up = 22 \n"
     ]
    },
    {
     "data": {
      "image/png": "[encoded data removed]",
      "text/plain": [
       "<Figure size 720x720 with 2 Axes>"
      ]
     },
     "metadata": {
      "needs_background": "light"
     },
     "output_type": "display_data"
    }
   ],
   "source": [
    "from matplotlib.colors import LogNorm\n",
    "\n",
    "fig, ax = plt.subplots(figsize=(10, 10))\n",
    "\n",
    "im = ax.imshow(P, origin=\"lower\", cmap=\"viridis\", norm=LogNorm())\n",
    "\n",
    "\n",
    "ax.set_xlabel(\"s_hat\")\n",
    "ax.set_ylabel(\"s\")\n",
    "ax.set_title(\"P(s_hat;s) for b = 2\")\n",
    "\n",
    "belt_s_hat = []\n",
    "belt_s = []\n",
    "\n",
    "for s_0 in np.arange(0, N):\n",
    "\n",
    "    for s_lo in np.arange(N):\n",
    "        res = integral(s_lo, lo_lim=s_0, up_lim=N)  # N will be our cutoff\n",
    "        if res >= alpha / 2:\n",
    "            break\n",
    "\n",
    "    for s_up in reversed(np.arange(N)):\n",
    "        res = integral(s_up, lo_lim=0, up_lim=s_0)  # 0 will be our cutoff\n",
    "        if res >= alpha / 2:\n",
    "            break\n",
    "\n",
    "    print(f\" For s_0 = {s_0}, s_lo = {s_lo - 1}, s_up = {s_up + 1} \")\n",
    "\n",
    "    for s_i in range(s_lo - 1, s_up + 1 + 1):\n",
    "        belt_s_hat.append(s_0)\n",
    "        belt_s.append(s_i)\n",
    "\n",
    "points = ax.scatter(belt_s_hat, belt_s, marker=\"s\", color=\"black\", alpha=0.5)\n",
    "\n",
    "cbar = plt.colorbar(im)\n",
    "\n",
    "plt.show()"
   ]
  },
  {
   "cell_type": "code",
   "execution_count": null,
   "id": "63424d06-dcac-4c49-bcc0-125dafdd82f2",
   "metadata": {},
   "outputs": [],
   "source": []
  }
 ],
 "metadata": {
  "kernelspec": {
   "display_name": "Python 3 (ipykernel)",
   "language": "python",
   "name": "python3"
  },
  "language_info": {
   "codemirror_mode": {
    "name": "ipython",
    "version": 3
   },
   "file_extension": ".py",
   "mimetype": "text/x-python",
   "name": "python",
   "nbconvert_exporter": "python",
   "pygments_lexer": "ipython3",
   "version": "3.8.10"
  }
 },
 "nbformat": 4,
 "nbformat_minor": 5
}
