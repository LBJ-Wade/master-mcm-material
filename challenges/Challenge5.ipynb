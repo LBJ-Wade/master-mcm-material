{
 "cells": [
  {
   "cell_type": "markdown",
   "id": "61c56e0e-840d-49c6-87a6-b119dbab64d3",
   "metadata": {},
   "source": [
    "# Challenge 5\n",
    "\n",
    "* We measure a spectrum of 10 guassian-distributed variables (`x`), indexed by an energy variable `E`.\n",
    "\n",
    "* Signal and background are distributed differently in every bin:\n",
    "\n",
    "    * `b(E)` is constant and equal to `B=60`.\n",
    "    * `s(E)` follows a gaussian distribution: `s(E) = S*exp((E-E_0) / 2 \\sigma_E^2)` with `E_0=4` and `\\sigma_E=1`.\n",
    "    * `S` is unknown and we want to estimate it from the data.\n",
    "    "
   ]
  },
  {
   "cell_type": "code",
   "execution_count": null,
   "id": "0e41959b-0146-4ff4-90e6-64e53ab68578",
   "metadata": {},
   "outputs": [],
   "source": [
    "import matplotlib.pyplot as plt\n",
    "import numpy as np\n",
    "\n",
    "np.random.seed(\n",
    "    0\n",
    ")  # We manually set the seed for reproducible results, this is not required\n",
    "\n",
    "E = np.arange(0, 10) + 0.5\n",
    "print(\"E = \", E)\n",
    "\n",
    "intensity_data = [62, 69, 74, 86, 69, 81, 68, 54, 66, 71]\n",
    "print(\"x = \", intensity_data)\n",
    "\n",
    "fig, ax = plt.subplots(figsize=(10, 10))\n",
    "\n",
    "ax.set_xlim([0, 10])\n",
    "\n",
    "ax.set_xlabel(\"Energy (a.u.)\")\n",
    "ax.set_ylabel(\"Intensity (a.u.)\")\n",
    "ax.set_title(\"Measured spectrum\")\n",
    "\n",
    "ax.errorbar(E, intensity_data, xerr=0.5, fmt=\"o\", yerr=np.sqrt(intensity_data))\n",
    "\n",
    "plt.show()"
   ]
  },
  {
   "cell_type": "code",
   "execution_count": null,
   "id": "980dbe1f-cb63-4e8a-9cd4-fe499dcb26e9",
   "metadata": {},
   "outputs": [],
   "source": [
    "def fit_func(E, S, E_0=4, sigma_E=1, B=60):\n",
    "    return B + S * np.exp(-((E - E_0) ** 2) / (2 * sigma_E ** 2))"
   ]
  },
  {
   "cell_type": "code",
   "execution_count": null,
   "id": "06bbfc84-13d9-4e62-ac27-85353c1607d7",
   "metadata": {},
   "outputs": [],
   "source": [
    "E_plt = np.linspace(0, 10, 100)\n",
    "plt.plot(E_plt, fit_func(E_plt, S=1))"
   ]
  },
  {
   "cell_type": "code",
   "execution_count": null,
   "id": "3afafe5f-da02-4b6a-91c3-1882e03a027c",
   "metadata": {},
   "outputs": [],
   "source": [
    "def chi2_estimator(y, f, sigma):\n",
    "    result = 0\n",
    "    for i in range(len(y)):\n",
    "        result += (y[i] - f[i]) ** 2 / (sigma[i] ** 2)\n",
    "    return result"
   ]
  },
  {
   "cell_type": "markdown",
   "id": "b379b649-f883-4aec-ac6f-31f240a0a254",
   "metadata": {},
   "source": [
    "We compute the fit function for different values of S to compare the chi2 estimator"
   ]
  },
  {
   "cell_type": "code",
   "execution_count": null,
   "id": "d6ea65a5-0ca6-4073-8f80-6e21c24af0e6",
   "metadata": {},
   "outputs": [],
   "source": [
    "S_values = []\n",
    "chi2_values = []\n",
    "\n",
    "chi2_min = 1e10\n",
    "S_result = 0\n",
    "\n",
    "for S in np.linspace(0, 30, 10000):\n",
    "    y = intensity_data\n",
    "    sigma = np.sqrt(y)\n",
    "    f = [fit_func(energy, S=S) for energy in E]\n",
    "    chi2 = chi2_estimator(y, f, sigma)\n",
    "\n",
    "    S_values.append(S)\n",
    "    chi2_values.append(chi2)\n",
    "\n",
    "    if chi2 < chi2_min:\n",
    "        chi2_min = chi2\n",
    "        S_result = S"
   ]
  },
  {
   "cell_type": "code",
   "execution_count": null,
   "id": "207defe8-7379-49f8-afcb-2daab4ddbadc",
   "metadata": {},
   "outputs": [],
   "source": [
    "plt.plot(S_values, chi2_values, color=\"blue\")\n",
    "plt.scatter([S_result], [chi2_min], color=\"red\")\n",
    "\n",
    "plt.xlabel(\"S\")\n",
    "plt.ylabel(\"Chi2 estimator\")\n",
    "\n",
    "plt.show()\n",
    "\n",
    "print(f\"S = {S_result}\")\n",
    "\n",
    "import matplotlib.pyplot as plt\n",
    "import numpy as np\n",
    "\n",
    "fig, ax = plt.subplots(figsize=(7, 7))\n",
    "\n",
    "ax.set_xlim([0, 10])\n",
    "\n",
    "ax.set_xlabel(\"Energy (a.u.)\")\n",
    "ax.set_ylabel(\"Intensity (a.u.)\")\n",
    "ax.set_title(\"Measured spectrum\")\n",
    "\n",
    "ax.errorbar(\n",
    "    E, intensity_data, xerr=0.5, fmt=\"o\", yerr=np.sqrt(intensity_data), color=\"blue\", label=\"Data\"\n",
    ")\n",
    "\n",
    "E_plt = np.linspace(0, 10, 1000)\n",
    "ax.plot(E_plt, fit_func(E_plt, S=S_result), color=\"red\", label=\"Fit for B=60\")\n",
    "\n",
    "plt.legend()\n",
    "plt.show()"
   ]
  },
  {
   "cell_type": "code",
   "execution_count": null,
   "id": "8ea5da6d-72c2-480a-99cc-e8715479e984",
   "metadata": {},
   "outputs": [],
   "source": []
  },
  {
   "cell_type": "code",
   "execution_count": null,
   "id": "533195a5-b7d0-4291-a704-bad603c07b6b",
   "metadata": {},
   "outputs": [],
   "source": []
  }
 ],
 "metadata": {
  "kernelspec": {
   "display_name": "Python 3 (ipykernel)",
   "language": "python",
   "name": "python3"
  },
  "language_info": {
   "codemirror_mode": {
    "name": "ipython",
    "version": 3
   },
   "file_extension": ".py",
   "mimetype": "text/x-python",
   "name": "python",
   "nbconvert_exporter": "python",
   "pygments_lexer": "ipython3",
   "version": "3.8.10"
  }
 },
 "nbformat": 4,
 "nbformat_minor": 5
}
