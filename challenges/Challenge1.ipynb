{
 "cells": [
  {
   "cell_type": "code",
   "execution_count": 1,
   "id": "caa13510",
   "metadata": {},
   "outputs": [],
   "source": [
    "import matplotlib.pyplot as plt\n",
    "import numpy as np\n",
    "\n",
    "np.random.seed(\n",
    "    0\n",
    ")  # We manually set the seed for reproducible results, this is not required"
   ]
  },
  {
   "cell_type": "markdown",
   "id": "5ec44a05",
   "metadata": {},
   "source": [
    "# Challenge 1\n",
    "\n",
    "\"Ghostie\" produces output in {0,1}\n",
    "\n",
    "If the hypothesis is **false** the outcome is uniformly distributed P({0, 1}) = {0.5, 0.5}\n",
    "\n",
    "If the hypothesis is **true** the probability of a positive outcome is 90% i.e. P({0, 1}) = {0.1, 0.9}\n",
    "\n",
    "We have taken 4 measurements with the following result: **{1, 1, 1, 1}**"
   ]
  },
  {
   "cell_type": "markdown",
   "id": "066e7ef7",
   "metadata": {},
   "source": [
    "## Task 1\n",
    "\n",
    "Graph the probability distribution of the number of positive outcomes in a set of 4 measurements for both of the underlying distributions (**true** and **false** cases)"
   ]
  },
  {
   "cell_type": "code",
   "execution_count": 2,
   "id": "dcaefebe",
   "metadata": {},
   "outputs": [
    {
     "name": "stdout",
     "output_type": "stream",
     "text": [
      "Calling the function 'random_generator_false' 15 times\n",
      "---> [0 1 1 0] positive outcomes: 2\n",
      "---> [1 1 1 1] positive outcomes: 4\n",
      "---> [1 1 1 0] positive outcomes: 3\n",
      "---> [0 1 0 0] positive outcomes: 1\n",
      "---> [0 0 0 1] positive outcomes: 1\n",
      "---> [0 1 1 0] positive outcomes: 2\n",
      "---> [0 1 1 1] positive outcomes: 3\n",
      "---> [1 0 1 0] positive outcomes: 2\n",
      "---> [1 0 1 1] positive outcomes: 3\n",
      "---> [0 1 1 0] positive outcomes: 2\n",
      "---> [0 1 0 1] positive outcomes: 2\n",
      "---> [1 1 1 1] positive outcomes: 4\n",
      "---> [0 1 0 1] positive outcomes: 2\n",
      "---> [1 1 1 0] positive outcomes: 3\n",
      "---> [1 0 0 1] positive outcomes: 2\n"
     ]
    }
   ],
   "source": [
    "# randint is a function that produces a uniformly distributed random integer\n",
    "# more information in https://numpy.org/doc/stable/reference/random/generated/numpy.random.randint.html#numpy.random.randint\n",
    "\n",
    "\n",
    "def random_generator_false(n=4):\n",
    "    return np.random.randint(2, size=n)\n",
    "\n",
    "\n",
    "def test_random_generator(random_generator_function, n=15):\n",
    "    # first input argument is a function!\n",
    "\n",
    "    print(f\"Calling the function '{random_generator_function.__name__}' {n} times\")\n",
    "\n",
    "    for i in range(n):\n",
    "        sample = random_generator_function()\n",
    "        print(f\"---> {sample} positive outcomes: {sum(sample)}\")\n",
    "\n",
    "\n",
    "test_random_generator(random_generator_false)"
   ]
  },
  {
   "cell_type": "code",
   "execution_count": 3,
   "id": "0903c2d3",
   "metadata": {},
   "outputs": [
    {
     "name": "stdout",
     "output_type": "stream",
     "text": [
      "Number of samples: 10000 each with size 4\n",
      "counts: 0: 6.14%\n",
      "counts: 1: 24.60%\n",
      "counts: 2: 38.13%\n",
      "counts: 3: 25.02%\n",
      "counts: 4: 6.11%\n"
     ]
    },
    {
     "data": {
      "image/png": "[encoded data removed]",
      "text/plain": [
       "<Figure size 432x288 with 1 Axes>"
      ]
     },
     "metadata": {
      "needs_background": "light"
     },
     "output_type": "display_data"
    }
   ],
   "source": [
    "def plot_discrete_distribution(samples, color=\"red\"):\n",
    "\n",
    "    # plt.hist(samples) # We can plot a simple histogram\n",
    "\n",
    "    # We can also plot a bar chart which looks better for discrete distributions (https://matplotlib.org/stable/api/_as_gen/matplotlib.pyplot.bar.html)\n",
    "\n",
    "    # The python standard library (https://docs.python.org/3/library/) has many useful features!\n",
    "\n",
    "    if np.isscalar(samples[0]):\n",
    "        # each entry in samples contains the number of positive outcomes i.e. samples[0] = 3\n",
    "        sample_size = np.max(samples)\n",
    "        samples_count = samples\n",
    "    else:\n",
    "        # each entry in samples is a container with 1 or 0 depending on the outcome i.e. samples[0] = [1, 0, 1, 1]\n",
    "        sample_size = len(samples[0])\n",
    "        print(f\"Number of samples: {len(samples)} each with size {sample_size}\")\n",
    "        samples_count = [\n",
    "            sum(sample) for sample in samples\n",
    "        ]  # list of number of positive outcomes\n",
    "\n",
    "    unique, counts = np.unique(samples_count, return_counts=True)\n",
    "    # build a dictionary\n",
    "    counts = {unique[i]: counts[i] for i in range(len(unique))}\n",
    "\n",
    "    values_not_sampled = [\n",
    "        key for key in range(sample_size) if key not in counts\n",
    "    ]  # some values may not be sampled due to low statistics, we add it manually to key the graph pretty\n",
    "    for value in values_not_sampled:\n",
    "        counts[value] = 0\n",
    "\n",
    "    [\n",
    "        print(f\"counts: {key}: {counts[key] / len(samples) * 100 :0.2f}%\")\n",
    "        for key in sorted(counts.keys())\n",
    "    ]\n",
    "\n",
    "    plt.bar(counts.keys(), counts.values(), color=color)\n",
    "\n",
    "    plt.xlabel(\"Number of positive outcomes\")\n",
    "    plt.ylabel(\"Relative number of outcomes\")\n",
    "\n",
    "    plt.show()\n",
    "\n",
    "\n",
    "size = 4  # size of an individual sample\n",
    "\n",
    "n = 10000  # number of samples\n",
    "\n",
    "samples = [random_generator_false(size) for i in range(n)]\n",
    "\n",
    "plot_discrete_distribution(samples, color=\"red\")"
   ]
  },
  {
   "cell_type": "markdown",
   "id": "e151229b",
   "metadata": {},
   "source": [
    "In the case of the **true** hypothesis we need to construct our random generator function"
   ]
  },
  {
   "cell_type": "code",
   "execution_count": 4,
   "id": "bedcd3c2",
   "metadata": {},
   "outputs": [
    {
     "name": "stdout",
     "output_type": "stream",
     "text": [
      "Calling the function 'random_generator_true' 15 times\n",
      "---> [1 1 0 1] positive outcomes: 3\n",
      "---> [1 1 1 1] positive outcomes: 4\n",
      "---> [1 1 1 1] positive outcomes: 4\n",
      "---> [1 1 1 1] positive outcomes: 4\n",
      "---> [1 0 1 1] positive outcomes: 3\n",
      "---> [1 1 1 0] positive outcomes: 3\n",
      "---> [1 1 1 1] positive outcomes: 4\n",
      "---> [1 1 1 1] positive outcomes: 4\n",
      "---> [1 1 1 1] positive outcomes: 4\n",
      "---> [1 1 1 1] positive outcomes: 4\n",
      "---> [1 1 1 1] positive outcomes: 4\n",
      "---> [1 1 1 1] positive outcomes: 4\n",
      "---> [1 1 1 1] positive outcomes: 4\n",
      "---> [1 0 1 1] positive outcomes: 3\n",
      "---> [1 1 0 0] positive outcomes: 2\n"
     ]
    }
   ],
   "source": [
    "def random_generator_true(n=4):\n",
    "    sample = np.random.uniform(size=n)  # n U(0,1) distributed random numbers\n",
    "    sample = sample < 0.9  # now we convert it to a boolean array\n",
    "    return sample + 0  # this is a funny way to convert a boolean array to a int array\n",
    "\n",
    "\n",
    "test_random_generator(random_generator_true)"
   ]
  },
  {
   "cell_type": "code",
   "execution_count": 5,
   "id": "3005a53d",
   "metadata": {},
   "outputs": [
    {
     "name": "stdout",
     "output_type": "stream",
     "text": [
      "Number of samples: 10000 each with size 4\n",
      "counts: 0: 0.02%\n",
      "counts: 1: 0.34%\n",
      "counts: 2: 4.59%\n",
      "counts: 3: 29.00%\n",
      "counts: 4: 66.05%\n"
     ]
    },
    {
     "data": {
      "image/png": "[encoded data removed]",
      "text/plain": [
       "<Figure size 432x288 with 1 Axes>"
      ]
     },
     "metadata": {
      "needs_background": "light"
     },
     "output_type": "display_data"
    }
   ],
   "source": [
    "samples = [random_generator_true(size) for i in range(n)]\n",
    "\n",
    "plot_discrete_distribution(samples, color=\"blue\")"
   ]
  },
  {
   "cell_type": "markdown",
   "id": "527e8a72-87af-4aef-8ca1-174e5b9555fd",
   "metadata": {},
   "source": [
    "## Binomial Distribution\n",
    "\n",
    "The same can be calculated with a binomial distribution `B(n,p)` with `n` the sample size (`n=4`) and `p` the probability of success (`p=0.5` for the \"false\" case and `p=0.9` for the \"true\" case)"
   ]
  },
  {
   "cell_type": "code",
   "execution_count": 6,
   "id": "8dbd292c-2fa1-40d5-aad5-c14ca5a9c065",
   "metadata": {},
   "outputs": [
    {
     "name": "stdout",
     "output_type": "stream",
     "text": [
      "counts: 0: 5.79%\n",
      "counts: 1: 25.52%\n",
      "counts: 2: 37.06%\n",
      "counts: 3: 25.08%\n",
      "counts: 4: 6.55%\n"
     ]
    },
    {
     "data": {
      "image/png": "[encoded data removed]",
      "text/plain": [
       "<Figure size 432x288 with 1 Axes>"
      ]
     },
     "metadata": {
      "needs_background": "light"
     },
     "output_type": "display_data"
    },
    {
     "name": "stdout",
     "output_type": "stream",
     "text": [
      "counts: 0: 0.03%\n",
      "counts: 1: 0.45%\n",
      "counts: 2: 4.85%\n",
      "counts: 3: 29.22%\n",
      "counts: 4: 65.45%\n"
     ]
    },
    {
     "data": {
      "image/png": "[encoded data removed]",
      "text/plain": [
       "<Figure size 432x288 with 1 Axes>"
      ]
     },
     "metadata": {
      "needs_background": "light"
     },
     "output_type": "display_data"
    }
   ],
   "source": [
    "from scipy.stats import binom\n",
    "\n",
    "n = 4\n",
    "\n",
    "p = 0.5\n",
    "sample_false = binom.rvs(n, p, size=10000)\n",
    "plot_discrete_distribution(sample_false, color=\"red\")\n",
    "\n",
    "p = 0.9\n",
    "sample_true = binom.rvs(n, p, size=10000)\n",
    "plot_discrete_distribution(sample_true, color=\"blue\")"
   ]
  },
  {
   "cell_type": "markdown",
   "id": "8e79ac30-f82c-4343-bb67-7ea58afac055",
   "metadata": {},
   "source": [
    "We can check the speed of our implementation and compare it with the scipy implementation of the binomial distribution.\n",
    "\n",
    "As you will see, our implementation is much slower, this is because we use python containers (such as lists) instead of numpy ones (such as np.array)."
   ]
  },
  {
   "cell_type": "code",
   "execution_count": 7,
   "id": "b5447eca-1047-44b0-89cb-2be9b67b6f47",
   "metadata": {},
   "outputs": [
    {
     "name": "stdout",
     "output_type": "stream",
     "text": [
      "Our implementation:\n",
      "78.6 ms ± 5.83 ms per loop (mean ± std. dev. of 7 runs, 10 loops each)\n",
      "scipy implementation:\n",
      "637 µs ± 8.51 µs per loop (mean ± std. dev. of 7 runs, 1000 loops each)\n"
     ]
    }
   ],
   "source": [
    "n = 10000\n",
    "\n",
    "print(\"Our implementation:\")\n",
    "%timeit [sum(random_generator_true(size)) for i in range(10000)]\n",
    "\n",
    "print(\"scipy implementation:\")\n",
    "%timeit binom.rvs(n, 0.9, size=10000)"
   ]
  },
  {
   "cell_type": "markdown",
   "id": "e981238b-3f0e-4272-94b0-cb8d9f395ae3",
   "metadata": {},
   "source": [
    "## Challenge 1.2"
   ]
  },
  {
   "cell_type": "code",
   "execution_count": 8,
   "id": "5ee29596-2fa8-4a2c-8d4c-b16b10021881",
   "metadata": {},
   "outputs": [
    {
     "name": "stdout",
     "output_type": "stream",
     "text": [
      "counts: 0: 0.41%\n",
      "counts: 1: 2.99%\n",
      "counts: 2: 11.43%\n",
      "counts: 3: 22.28%\n",
      "counts: 4: 26.97%\n",
      "counts: 5: 20.96%\n",
      "counts: 6: 11.42%\n",
      "counts: 7: 3.17%\n",
      "counts: 8: 0.37%\n"
     ]
    },
    {
     "data": {
      "image/png": "[encoded data removed]",
      "text/plain": [
       "<Figure size 432x288 with 1 Axes>"
      ]
     },
     "metadata": {
      "needs_background": "light"
     },
     "output_type": "display_data"
    },
    {
     "name": "stdout",
     "output_type": "stream",
     "text": [
      "counts: 0: 0.00%\n",
      "counts: 1: 0.00%\n",
      "counts: 2: 0.00%\n",
      "counts: 3: 0.04%\n",
      "counts: 4: 0.54%\n",
      "counts: 5: 3.36%\n",
      "counts: 6: 14.95%\n",
      "counts: 7: 38.48%\n",
      "counts: 8: 42.63%\n"
     ]
    },
    {
     "data": {
      "image/png": "[encoded data removed]",
      "text/plain": [
       "<Figure size 432x288 with 1 Axes>"
      ]
     },
     "metadata": {
      "needs_background": "light"
     },
     "output_type": "display_data"
    }
   ],
   "source": [
    "n = 8\n",
    "\n",
    "p = 0.5\n",
    "sample_false = binom.rvs(n, p, size=10000)\n",
    "plot_discrete_distribution(sample_false, color=\"red\")\n",
    "\n",
    "p = 0.9\n",
    "sample_true = binom.rvs(n, p, size=10000)\n",
    "plot_discrete_distribution(sample_true, color=\"blue\")"
   ]
  },
  {
   "cell_type": "markdown",
   "id": "293b1245-ab66-4e3f-aac0-79939d40ca4b",
   "metadata": {},
   "source": [
    "How many samples (`n`) do I need to take, assuming they all go positive, in order to get a `p-value = 3E-7` i.e. a significance of `5` sigma?\n",
    "\n",
    "In the following code there are two approaches:\n",
    "- The slow approach which is just a \"brute force\" monte carlo using `compute_p_value`. (we need to specify a sample size, the bigger it is, the more accure and slow the result)\n",
    "- The fast approach which uses the [https://docs.scipy.org/doc/scipy/reference/generated/scipy.stats.rv_discrete.pmf.html](pmf) function. How do you think this works?"
   ]
  },
  {
   "cell_type": "code",
   "execution_count": 9,
   "id": "d2e63a79-fe3d-4d97-a5e0-75ca221a853e",
   "metadata": {},
   "outputs": [
    {
     "name": "stdout",
     "output_type": "stream",
     "text": [
      "n=1 | p-value=5.00e-01\n",
      "n=2 | p-value=2.50e-01\n",
      "n=3 | p-value=1.25e-01\n",
      "n=4 | p-value=6.25e-02\n",
      "n=5 | p-value=3.12e-02\n",
      "n=6 | p-value=1.56e-02\n",
      "n=7 | p-value=7.81e-03\n",
      "n=8 | p-value=3.91e-03\n",
      "n=9 | p-value=1.95e-03\n",
      "n=10 | p-value=9.77e-04\n",
      "n=11 | p-value=4.88e-04\n",
      "n=12 | p-value=2.44e-04\n",
      "n=13 | p-value=1.22e-04\n",
      "n=14 | p-value=6.10e-05\n",
      "n=15 | p-value=3.05e-05\n",
      "n=16 | p-value=1.53e-05\n",
      "n=17 | p-value=7.63e-06\n",
      "n=18 | p-value=3.81e-06\n",
      "n=19 | p-value=1.91e-06\n",
      "n=20 | p-value=9.54e-07\n",
      "n=21 | p-value=4.77e-07\n",
      "n=22 | p-value=2.38e-07\n",
      "solution: n=22\n"
     ]
    },
    {
     "data": {
      "image/png": "[encoded data removed]",
      "text/plain": [
       "<Figure size 432x288 with 1 Axes>"
      ]
     },
     "metadata": {
      "needs_background": "light"
     },
     "output_type": "display_data"
    },
    {
     "name": "stdout",
     "output_type": "stream",
     "text": [
      "Speed test:\n",
      " - Slow:\n",
      "1.26 s ± 300 ms per loop (mean ± std. dev. of 7 runs, 1 loop each)\n",
      " - Fast:\n",
      "703 µs ± 24.7 µs per loop (mean ± std. dev. of 7 runs, 1000 loops each)\n"
     ]
    }
   ],
   "source": [
    "n = 0\n",
    "p = 0.5\n",
    "\n",
    "p_value = 1\n",
    "\n",
    "n_values = []\n",
    "p_values = []\n",
    "\n",
    "\n",
    "def compute_p_value(n, p):\n",
    "    sample_size = 10000000\n",
    "    sample_false = binom.rvs(n, p, size=sample_size)  # 50%\n",
    "    # number of \"all positive\" events\n",
    "    n_all_positive = len(np.where(sample_false == n)[0])\n",
    "    p_value = n_all_positive / sample_size\n",
    "\n",
    "    return p_value\n",
    "\n",
    "\n",
    "def compute_p_value_fast(n, p):\n",
    "    return binom(n, p).pmf(n)\n",
    "\n",
    "\n",
    "while p_value > 3e-7:\n",
    "    n += 1\n",
    "\n",
    "    # comment one of the two to see the speed difference\n",
    "    # p_value = compute_p_value(n, p)\n",
    "    p_value = compute_p_value_fast(n, p)\n",
    "\n",
    "    print(f\"n={n} | p-value={p_value:.2e}\")\n",
    "\n",
    "    n_values.append(n)\n",
    "    p_values.append(p_value)\n",
    "\n",
    "\n",
    "print(f\"solution: n={n}\")\n",
    "\n",
    "plt.bar(n_values, p_values)\n",
    "\n",
    "plt.xlabel(\"n\")\n",
    "plt.ylabel(\"p-value\")\n",
    "\n",
    "plt.yscale(\"log\")\n",
    "\n",
    "plt.show()\n",
    "\n",
    "print(\"Speed test:\")\n",
    "print(\" - Slow:\")\n",
    "%timeit compute_p_value(n, p)\n",
    "print(\" - Fast:\")\n",
    "%timeit compute_p_value_fast(n, p)"
   ]
  },
  {
   "cell_type": "markdown",
   "id": "0793c3b9-b619-4105-95b8-2607ed1b8287",
   "metadata": {},
   "source": [
    "As we have computed, we would need 22 samples in order for the probability of recording all positive outcomes to be less than `3E-7`"
   ]
  }
 ],
 "metadata": {
  "kernelspec": {
   "display_name": "Python 3 (ipykernel)",
   "language": "python",
   "name": "python3"
  },
  "language_info": {
   "codemirror_mode": {
    "name": "ipython",
    "version": 3
   },
   "file_extension": ".py",
   "mimetype": "text/x-python",
   "name": "python",
   "nbconvert_exporter": "python",
   "pygments_lexer": "ipython3",
   "version": "3.8.10"
  }
 },
 "nbformat": 4,
 "nbformat_minor": 5
}
