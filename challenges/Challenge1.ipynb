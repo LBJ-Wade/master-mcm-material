{
 "cells": [
  {
   "cell_type": "code",
   "execution_count": 1,
   "id": "caa13510",
   "metadata": {},
   "outputs": [],
   "source": [
    "import numpy as np\n",
    "import matplotlib.pyplot as plt\n",
    "\n",
    "np.random.seed(0) # We manually set the seed for reproducible results, this is not required"
   ]
  },
  {
   "cell_type": "markdown",
   "id": "5ec44a05",
   "metadata": {},
   "source": [
    "# Challenge 1\n",
    "\n",
    "\"Ghostie\" produces output in {0,1}\n",
    "\n",
    "If the hypothesis is **false** the outcome is uniformly distributed P({0, 1}) = {0.5, 0.5}\n",
    "\n",
    "If the hypothesis is **true** the probability of a positive outcome is 90% i.e. P({0, 1}) = {0.1, 0.9}\n",
    "\n",
    "We have taken 4 measurements with the following result: **{1, 1, 1, 1}**"
   ]
  },
  {
   "cell_type": "markdown",
   "id": "066e7ef7",
   "metadata": {},
   "source": [
    "## Task 1\n",
    "\n",
    "Graph the probability distribution of the number of positive outcomes in a set of 4 measurements for both of the underlying distributions (**true** and **false** cases)"
   ]
  },
  {
   "cell_type": "code",
   "execution_count": 2,
   "id": "dcaefebe",
   "metadata": {},
   "outputs": [
    {
     "name": "stdout",
     "output_type": "stream",
     "text": [
      "Calling the function 'random_generator_false' 15 times\n",
      "---> [0 1 1 0] positive outcomes: 2\n",
      "---> [1 1 1 1] positive outcomes: 4\n",
      "---> [1 1 1 0] positive outcomes: 3\n",
      "---> [0 1 0 0] positive outcomes: 1\n",
      "---> [0 0 0 1] positive outcomes: 1\n",
      "---> [0 1 1 0] positive outcomes: 2\n",
      "---> [0 1 1 1] positive outcomes: 3\n",
      "---> [1 0 1 0] positive outcomes: 2\n",
      "---> [1 0 1 1] positive outcomes: 3\n",
      "---> [0 1 1 0] positive outcomes: 2\n",
      "---> [0 1 0 1] positive outcomes: 2\n",
      "---> [1 1 1 1] positive outcomes: 4\n",
      "---> [0 1 0 1] positive outcomes: 2\n",
      "---> [1 1 1 0] positive outcomes: 3\n",
      "---> [1 0 0 1] positive outcomes: 2\n"
     ]
    }
   ],
   "source": [
    "# randint is a function that produces a uniformly distributed random integer \n",
    "# more information in https://numpy.org/doc/stable/reference/random/generated/numpy.random.randint.html#numpy.random.randint\n",
    "\n",
    "def random_generator_false(n = 4):\n",
    "    return np.random.randint(2, size = n)\n",
    "\n",
    "def test_random_generator(random_generator_function, n = 15):\n",
    "    # first input argument is a function!\n",
    "    \n",
    "    print(f\"Calling the function '{random_generator_function.__name__}' {n} times\")\n",
    "\n",
    "    for i in range(n):\n",
    "        sample = random_generator_false()\n",
    "        print(f\"---> {sample} positive outcomes: {sum(sample)}\")\n",
    "        \n",
    "test_random_generator(random_generator_false)"
   ]
  },
  {
   "cell_type": "code",
   "execution_count": 3,
   "id": "0903c2d3",
   "metadata": {},
   "outputs": [
    {
     "name": "stdout",
     "output_type": "stream",
     "text": [
      "Number of samples: 10000 each with size 4\n",
      "counts: 0: 6.14%\n",
      "counts: 1: 24.60%\n",
      "counts: 2: 38.13%\n",
      "counts: 3: 25.02%\n",
      "counts: 4: 6.11%\n"
     ]
    },
    {
     "data": {
      "image/png": "[encoded data removed]",
      "text/plain": [
       "<Figure size 432x288 with 1 Axes>"
      ]
     },
     "metadata": {
      "needs_background": "light"
     },
     "output_type": "display_data"
    }
   ],
   "source": [
    "\n",
    "def plot_discrete_distribution(samples, color=\"blue\"):\n",
    "    \n",
    "    # plt.hist(samples) # We can plot a simple histogram\n",
    "\n",
    "    # We can also plot a bar chart which looks better for discrete distributions (https://matplotlib.org/stable/api/_as_gen/matplotlib.pyplot.bar.html)\n",
    "\n",
    "    # The python standard library (https://docs.python.org/3/library/) has many useful features!\n",
    "\n",
    "    sample_size = len(samples[0])\n",
    "    print(f\"Number of samples: {len(samples)} each with size {sample_size}\")\n",
    "\n",
    "    samples_count = [sum(sample) for sample in samples] # list of number of positive outcomes\n",
    "    \n",
    "    from collections import Counter\n",
    "\n",
    "    counts = Counter(samples_count) # counts is a dictionary\n",
    "    \n",
    "    values_not_sampled = [key for key in range(sample_size) if key not in counts] # some values may not be sampled due to low statistics, we add it manually to key the graph pretty\n",
    "    for value in values_not_sampled:\n",
    "        counts[value] = 0\n",
    "    \n",
    "    [print(f\"counts: {key}: {counts[key] / n * 100 :0.2f}%\") for key in sorted(counts.keys())]\n",
    "\n",
    "    plt.bar(counts.keys(), counts.values(), color = color)\n",
    "\n",
    "    plt.xlabel(\"Number of positive outcomes\")\n",
    "    plt.ylabel(\"Relative number of outcomes\")\n",
    "\n",
    "    plt.show()\n",
    "    \n",
    "    \n",
    "size = 4 # size of an individual sample\n",
    "\n",
    "n = 10000 # number of samples\n",
    "\n",
    "samples = [random_generator_false(size) for i in range(n)]\n",
    "\n",
    "plot_discrete_distribution(samples, color=\"blue\")"
   ]
  },
  {
   "cell_type": "markdown",
   "id": "e151229b",
   "metadata": {},
   "source": [
    "In the case of the **true** hypothesis we need to construct our random generator function"
   ]
  },
  {
   "cell_type": "code",
   "execution_count": 4,
   "id": "bedcd3c2",
   "metadata": {},
   "outputs": [
    {
     "name": "stdout",
     "output_type": "stream",
     "text": [
      "Calling the function 'random_generator_true' 15 times\n",
      "---> [1 1 1 1] positive outcomes: 4\n",
      "---> [0 1 1 0] positive outcomes: 2\n",
      "---> [0 1 0 0] positive outcomes: 1\n",
      "---> [0 0 1 0] positive outcomes: 1\n",
      "---> [0 1 1 1] positive outcomes: 3\n",
      "---> [1 1 1 1] positive outcomes: 4\n",
      "---> [0 0 0 0] positive outcomes: 0\n",
      "---> [0 1 0 1] positive outcomes: 2\n",
      "---> [0 0 1 0] positive outcomes: 1\n",
      "---> [0 0 1 1] positive outcomes: 2\n",
      "---> [0 1 1 1] positive outcomes: 3\n",
      "---> [0 1 0 0] positive outcomes: 1\n",
      "---> [0 1 1 0] positive outcomes: 2\n",
      "---> [0 1 0 1] positive outcomes: 2\n",
      "---> [1 0 0 1] positive outcomes: 2\n"
     ]
    }
   ],
   "source": [
    "def random_generator_true(n = 4):\n",
    "    sample = np.random.uniform(size = n) # n U(0,1) distributed random numbers\n",
    "    sample = sample < 0.9                # now we convert it to a boolean array\n",
    "    return sample + 0                    # this is a funny way to convert a boolean array to a int array\n",
    "\n",
    "test_random_generator(random_generator_true)"
   ]
  },
  {
   "cell_type": "code",
   "execution_count": 5,
   "id": "3005a53d",
   "metadata": {},
   "outputs": [
    {
     "name": "stdout",
     "output_type": "stream",
     "text": [
      "Number of samples: 10000 each with size 4\n",
      "counts: 0: 0.04%\n",
      "counts: 1: 0.32%\n",
      "counts: 2: 4.60%\n",
      "counts: 3: 28.97%\n",
      "counts: 4: 66.07%\n"
     ]
    },
    {
     "data": {
      "image/png": "[encoded data removed]",
      "text/plain": [
       "<Figure size 432x288 with 1 Axes>"
      ]
     },
     "metadata": {
      "needs_background": "light"
     },
     "output_type": "display_data"
    }
   ],
   "source": [
    "samples = [random_generator_true(size) for i in range(n)]\n",
    "\n",
    "plot_discrete_distribution(samples, color=\"red\")"
   ]
  },
  {
   "cell_type": "markdown",
   "id": "efbb7c85",
   "metadata": {},
   "source": [
    "## Task 2\n",
    "\n",
    "Binomial distribution"
   ]
  },
  {
   "cell_type": "code",
   "execution_count": 6,
   "id": "2706eef7",
   "metadata": {},
   "outputs": [],
   "source": [
    "from scipy.stats import binom"
   ]
  }
 ],
 "metadata": {
  "kernelspec": {
   "display_name": "Python 3",
   "language": "python",
   "name": "python3"
  },
  "language_info": {
   "codemirror_mode": {
    "name": "ipython",
    "version": 3
   },
   "file_extension": ".py",
   "mimetype": "text/x-python",
   "name": "python",
   "nbconvert_exporter": "python",
   "pygments_lexer": "ipython3",
   "version": "3.9.6"
  }
 },
 "nbformat": 4,
 "nbformat_minor": 5
}
