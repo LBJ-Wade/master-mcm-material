{
 "cells": [
  {
   "cell_type": "markdown",
   "id": "af8abd5c-665d-4a57-9a3a-3ceab7e05237",
   "metadata": {},
   "source": [
    "# Challenge 6"
   ]
  },
  {
   "cell_type": "markdown",
   "id": "2ff76ab9-6e1e-445c-a5bc-3f0676f06471",
   "metadata": {},
   "source": [
    "### Likelihood study with binned Poisson data"
   ]
  },
  {
   "cell_type": "code",
   "execution_count": 1,
   "id": "3a781484-acb0-4345-924d-61caba3ac50c",
   "metadata": {},
   "outputs": [
    {
     "name": "stdout",
     "output_type": "stream",
     "text": [
      "energies: [0.5 1.5 2.5 3.5 4.5 5.5 6.5 7.5 8.5 9.5]\n",
      "counts: [ 9  6 16 11 18  7  8  7  8 10]\n"
     ]
    }
   ],
   "source": [
    "import matplotlib.pyplot as plt\n",
    "import numpy as np\n",
    "import scipy.stats as st\n",
    "from numba import jit\n",
    "\n",
    "np.random.seed(\n",
    "    0\n",
    ")  # We manually set the seed for reproducible results, this is not required\n",
    "\n",
    "energies = np.arange(10) + 0.5  # bin centers\n",
    "print(f\"energies: {energies}\")\n",
    "\n",
    "counts = np.array([9, 6, 16, 11, 18, 7, 8, 7, 8, 10])\n",
    "print(f\"counts: {counts}\")"
   ]
  },
  {
   "cell_type": "markdown",
   "id": "5e6aab01-0f5b-4f90-977d-31564981ebc8",
   "metadata": {},
   "source": [
    "We use numba to speed up the execution"
   ]
  },
  {
   "cell_type": "code",
   "execution_count": 2,
   "id": "624bc32c-92d6-41b8-b039-1ffd8d40a7c8",
   "metadata": {},
   "outputs": [],
   "source": [
    "@jit\n",
    "def model(E, S, B, E_0=4, sigma_E=1):\n",
    "    return B + S * np.exp(-((E - E_0) ** 2) / (2 * sigma_E ** 2))"
   ]
  },
  {
   "cell_type": "code",
   "execution_count": 3,
   "id": "519434e1-70a9-4631-a693-e3a0d26586ad",
   "metadata": {},
   "outputs": [],
   "source": [
    "@jit\n",
    "def log_likelihood(bin_centers, counts, S, B):\n",
    "    result = 0\n",
    "    for i in range(len(counts)):\n",
    "        # Poisson bins\n",
    "        mu = model(bin_centers[i], S=S, B=B)\n",
    "        result += 2 * (mu - counts[i] + counts[i] * np.log(counts[i] / mu))\n",
    "    return result"
   ]
  },
  {
   "cell_type": "markdown",
   "id": "0f9710d4-59be-4575-beab-0eb98474f3e1",
   "metadata": {},
   "source": [
    "## Fit data"
   ]
  },
  {
   "cell_type": "code",
   "execution_count": 4,
   "id": "a6319cc9-0b1d-4845-bc39-d0c8fd75249a",
   "metadata": {},
   "outputs": [
    {
     "name": "stdout",
     "output_type": "stream",
     "text": [
      "S=7.702, B=8.056, logmin=6.971\n"
     ]
    }
   ],
   "source": [
    "@jit\n",
    "def minimize_loglike(bins, counts, N=100):\n",
    "    S_result = 0\n",
    "    B_result = 0\n",
    "\n",
    "    log_min = 1e10\n",
    "\n",
    "    for S in np.linspace(0.01, 20, N):\n",
    "        for B in np.linspace(0, 20, N):\n",
    "            loglike = log_likelihood(energies, counts, S=S, B=B)\n",
    "            if loglike < log_min:\n",
    "                log_min = loglike\n",
    "                S_result = S\n",
    "                B_result = B\n",
    "\n",
    "    return log_min, S_result, B_result\n",
    "\n",
    "\n",
    "log_min_ref, S_result_ref, B_result_ref = minimize_loglike(energies, counts, N=500)\n",
    "\n",
    "print(f\"S={S_result_ref:0.3f}, B={B_result_ref:0.3f}, logmin={log_min_ref:0.3f}\")"
   ]
  },
  {
   "cell_type": "code",
   "execution_count": 5,
   "id": "3fb8dd59-3ed7-4f38-9db6-4e43500fc4db",
   "metadata": {},
   "outputs": [
    {
     "name": "stdout",
     "output_type": "stream",
     "text": [
      "S=7.68, B=8.08, L_min=6.970\n"
     ]
    },
    {
     "data": {
      "image/png": "[encoded data removed]",
      "text/plain": [
       "<Figure size 432x288 with 1 Axes>"
      ]
     },
     "metadata": {
      "needs_background": "light"
     },
     "output_type": "display_data"
    }
   ],
   "source": [
    "N = 500\n",
    "S_range = np.linspace(0.1, 20, N)\n",
    "B_range = np.linspace(0.1, 20, N)\n",
    "loglike = np.zeros([N, N])\n",
    "for i, S in enumerate(S_range):\n",
    "    for j, B in enumerate(B_range):\n",
    "        loglike[i, j] = log_likelihood(energies, counts, S=S, B=B)\n",
    "\n",
    "# find the position of the min\n",
    "loglike_min = np.min(loglike)\n",
    "S_index, B_index = np.unravel_index(np.argmin(loglike, axis=None), loglike.shape)\n",
    "S_result = S_range[S_index]\n",
    "B_result = B_range[B_index]\n",
    "\n",
    "print(f\"S={S_result:0.2f}, B={B_result:0.2f}, L_min={loglike_min:0.3f}\")\n",
    "\n",
    "\n",
    "# CI\n",
    "indices_inside_CI = []\n",
    "for i, S in enumerate(S_range):\n",
    "    for j, B in enumerate(B_range):\n",
    "        if loglike[i, j] <= loglike_min + 1:\n",
    "            indices_inside_CI.append((i, j))\n",
    "\n",
    "S_CI = np.zeros(len(indices_inside_CI))\n",
    "B_CI = np.zeros(len(indices_inside_CI))\n",
    "for i, indices in enumerate(indices_inside_CI):\n",
    "    S_CI[i] = S_range[indices[0]]\n",
    "    B_CI[i] = B_range[indices[1]]\n",
    "\n",
    "plt.scatter(S_CI, B_CI, color=\"blue\", alpha=0.5)\n",
    "plt.scatter([S_result], [B_result], color=\"red\")\n",
    "\n",
    "plt.xlim([min(S_range), max(S_range)])\n",
    "plt.ylim([min(B_range), max(B_range)])\n",
    "\n",
    "plt.xlabel(\"S\")\n",
    "plt.ylabel(\"B\")\n",
    "\n",
    "plt.show()"
   ]
  },
  {
   "cell_type": "code",
   "execution_count": 6,
   "id": "d0f919fe-48b3-4730-b404-005cab00d585",
   "metadata": {},
   "outputs": [
    {
     "data": {
      "image/png": "[encoded data removed]",
      "text/plain": [
       "<Figure size 720x720 with 1 Axes>"
      ]
     },
     "metadata": {
      "needs_background": "light"
     },
     "output_type": "display_data"
    }
   ],
   "source": [
    "fig, ax = plt.subplots(figsize=(10, 10))\n",
    "\n",
    "ax.set_xlim([0, 10])\n",
    "\n",
    "ax.set_xlabel(\"Energy (a.u.)\")\n",
    "ax.set_ylabel(\"Counts (a.u.)\")\n",
    "ax.set_title(\"Measured spectrum\")\n",
    "\n",
    "ax.errorbar(energies, counts, xerr=0.5, fmt=\"o\", yerr=np.sqrt(counts), color=\"blue\")\n",
    "\n",
    "ax.bar(energies, counts, color=\"blue\", alpha=0.5)\n",
    "\n",
    "x = np.linspace(0, 10, 200)\n",
    "ax.plot(x, model(x, S=S_result_ref, B=B_result_ref), color=\"red\", linewidth=3)\n",
    "\n",
    "plt.show()"
   ]
  },
  {
   "cell_type": "markdown",
   "id": "af371c5a-45f9-4a77-ab5d-21079c84c51a",
   "metadata": {
    "tags": []
   },
   "source": [
    "## MC study to study distribution"
   ]
  },
  {
   "cell_type": "code",
   "execution_count": 7,
   "id": "ee8fd02c-8c77-446f-8ac1-55f50f4e7085",
   "metadata": {},
   "outputs": [
    {
     "name": "stdout",
     "output_type": "stream",
     "text": [
      "0.0%\n",
      "10.0%\n",
      "20.0%\n",
      "30.0%\n",
      "40.0%\n",
      "50.0%\n",
      "60.0%\n",
      "70.0%\n",
      "80.0%\n",
      "90.0%\n"
     ]
    }
   ],
   "source": [
    "import sys\n",
    "\n",
    "number_of_samples = 10000\n",
    "\n",
    "log_min_dist = np.zeros(number_of_samples)\n",
    "\n",
    "for k in range(number_of_samples):\n",
    "    if k % int(number_of_samples / 10) == 0:\n",
    "        print(str(k / number_of_samples * 100) + \"%\")\n",
    "    sys.stdout.flush()  # to avoid warning due to numba\n",
    "\n",
    "    sample = [model(energy, S=S_result_ref, B=B_result_ref) for energy in energies]\n",
    "    sample = np.array([st.poisson(int(count)).rvs() for count in sample])\n",
    "\n",
    "    # minimize\n",
    "    N = 100\n",
    "    S_range = np.linspace(0.1, 20, N)\n",
    "    B_range = np.linspace(0.1, 20, N)\n",
    "    loglike = np.zeros([N, N])\n",
    "    for i, S in enumerate(S_range):\n",
    "        for j, B in enumerate(B_range):\n",
    "            loglike[i, j] = log_likelihood(energies, sample, S=S, B=B)\n",
    "\n",
    "    log_min_dist[k] = np.min(loglike)"
   ]
  },
  {
   "cell_type": "code",
   "execution_count": 8,
   "id": "a8dc51fd-2f8d-4b6d-a092-8a3d2d532fbb",
   "metadata": {},
   "outputs": [
    {
     "data": {
      "image/png": "[encoded data removed]",
      "text/plain": [
       "<Figure size 432x288 with 1 Axes>"
      ]
     },
     "metadata": {
      "needs_background": "light"
     },
     "output_type": "display_data"
    },
    {
     "name": "stdout",
     "output_type": "stream",
     "text": [
      "p-value = 0.54\n"
     ]
    }
   ],
   "source": [
    "bins = np.linspace(0, 30, 50)\n",
    "\n",
    "plt.hist(\n",
    "    log_min_dist, bins=bins, color=\"blue\", alpha=0.5, density=True, label=\"MC Data\"\n",
    ")\n",
    "plt.plot(bins, st.chi2(df=10 - 2).pdf(bins), label=\"Chi2 (df=8)\", color=\"red\")\n",
    "plt.axvline(x=log_min_ref, color=\"black\", linewidth=3, label=\"fit\")\n",
    "plt.legend()\n",
    "\n",
    "plt.xlabel(\"MaxLogLikelihood\")\n",
    "plt.show()\n",
    "\n",
    "print(f\"p-value = {1 - st.chi2(df=10 - 2).cdf(log_min_ref):0.2f}\")"
   ]
  },
  {
   "cell_type": "code",
   "execution_count": null,
   "id": "5b51c21f-d872-4dd8-8eda-7883fdda1a5b",
   "metadata": {},
   "outputs": [],
   "source": []
  }
 ],
 "metadata": {
  "kernelspec": {
   "display_name": "Python 3 (ipykernel)",
   "language": "python",
   "name": "python3"
  },
  "language_info": {
   "codemirror_mode": {
    "name": "ipython",
    "version": 3
   },
   "file_extension": ".py",
   "mimetype": "text/x-python",
   "name": "python",
   "nbconvert_exporter": "python",
   "pygments_lexer": "ipython3",
   "version": "3.8.10"
  }
 },
 "nbformat": 4,
 "nbformat_minor": 5
}
